{
 "cells": [
  {
   "cell_type": "code",
   "execution_count": 1,
   "metadata": {},
   "outputs": [],
   "source": [
    "# ライブラリのインポート\n",
    "import numpy as np\n",
    "import pandas as pd\n",
    "import matplotlib.pyplot as plt\n",
    "from sklearn import preprocessing, linear_model\n",
    "import sklearn\n",
    "import optuna\n",
    "\n",
    "# テスト用\n",
    "from sklearn.metrics import mean_absolute_error"
   ]
  },
  {
   "cell_type": "code",
   "execution_count": 2,
   "metadata": {},
   "outputs": [],
   "source": [
    "data = pd.read_csv('./boston.csv')"
   ]
  },
  {
   "cell_type": "code",
   "execution_count": 3,
   "metadata": {},
   "outputs": [],
   "source": [
    "# 目的変数\n",
    "Y = data.medv\n",
    "\n",
    "# 説明変数\n",
    "X = data.drop('medv',axis=1)"
   ]
  },
  {
   "cell_type": "code",
   "execution_count": 4,
   "metadata": {},
   "outputs": [],
   "source": [
    "# 学習データとテストデータに分割\n",
    "from sklearn.model_selection import train_test_split\n",
    "(X_train, X_test,Y_train, Y_test) = train_test_split(X, Y, test_size=0.25)"
   ]
  },
  {
   "cell_type": "code",
   "execution_count": 5,
   "metadata": {},
   "outputs": [],
   "source": [
    "def objective(trial):\n",
    "   alpha= trial.suggest_uniform('alpha', 0, 1)\n",
    "   l1_ratio = trial.suggest_uniform('l1_ratio', 0, 1)\n",
    "   clf_er= linear_model.ElasticNet(alpha=alpha,l1_ratio=l1_ratio)\n",
    "   clf_er.fit(X_train, Y_train)\n",
    "\n",
    "   y_true = Y_test\n",
    "   y_pred = clf_er.predict(X_test)\n",
    "\n",
    "   return mean_absolute_error(y_true, y_pred)"
   ]
  },
  {
   "cell_type": "code",
   "execution_count": 6,
   "metadata": {},
   "outputs": [
    {
     "name": "stderr",
     "output_type": "stream",
     "text": [
      "[I 2019-02-11 05:26:32,923] Finished a trial resulted in value: 3.554611067836288. Current best value is 3.554611067836288 with parameters: {'alpha': 0.26136458124818884, 'l1_ratio': 0.4039968649128367}.\n",
      "[I 2019-02-11 05:26:32,939] Finished a trial resulted in value: 3.5663040004817343. Current best value is 3.554611067836288 with parameters: {'alpha': 0.26136458124818884, 'l1_ratio': 0.4039968649128367}.\n",
      "[I 2019-02-11 05:26:32,969] Finished a trial resulted in value: 3.700671519735359. Current best value is 3.554611067836288 with parameters: {'alpha': 0.26136458124818884, 'l1_ratio': 0.4039968649128367}.\n",
      "[I 2019-02-11 05:26:32,985] Finished a trial resulted in value: 3.459020561621303. Current best value is 3.459020561621303 with parameters: {'alpha': 0.07824190904655948, 'l1_ratio': 0.9750217833010476}.\n",
      "[I 2019-02-11 05:26:32,997] Finished a trial resulted in value: 3.724283935066147. Current best value is 3.459020561621303 with parameters: {'alpha': 0.07824190904655948, 'l1_ratio': 0.9750217833010476}.\n",
      "[I 2019-02-11 05:26:33,009] Finished a trial resulted in value: 3.603743630954753. Current best value is 3.459020561621303 with parameters: {'alpha': 0.07824190904655948, 'l1_ratio': 0.9750217833010476}.\n",
      "[I 2019-02-11 05:26:33,029] Finished a trial resulted in value: 3.7167163372891925. Current best value is 3.459020561621303 with parameters: {'alpha': 0.07824190904655948, 'l1_ratio': 0.9750217833010476}.\n",
      "[I 2019-02-11 05:26:33,045] Finished a trial resulted in value: 3.6111544069753143. Current best value is 3.459020561621303 with parameters: {'alpha': 0.07824190904655948, 'l1_ratio': 0.9750217833010476}.\n",
      "[I 2019-02-11 05:26:33,065] Finished a trial resulted in value: 3.679524192768607. Current best value is 3.459020561621303 with parameters: {'alpha': 0.07824190904655948, 'l1_ratio': 0.9750217833010476}.\n",
      "[I 2019-02-11 05:26:33,083] Finished a trial resulted in value: 3.6596374860628864. Current best value is 3.459020561621303 with parameters: {'alpha': 0.07824190904655948, 'l1_ratio': 0.9750217833010476}.\n",
      "[I 2019-02-11 05:26:33,110] Finished a trial resulted in value: 3.36974019486434. Current best value is 3.36974019486434 with parameters: {'alpha': 0.00061780201418309977, 'l1_ratio': 0.73589132376597077}.\n",
      "[I 2019-02-11 05:26:33,146] Finished a trial resulted in value: 3.3792521862313505. Current best value is 3.36974019486434 with parameters: {'alpha': 0.00061780201418309977, 'l1_ratio': 0.73589132376597077}.\n",
      "[I 2019-02-11 05:26:33,166] Finished a trial resulted in value: 3.5144761644484754. Current best value is 3.36974019486434 with parameters: {'alpha': 0.00061780201418309977, 'l1_ratio': 0.73589132376597077}.\n",
      "[I 2019-02-11 05:26:33,186] Finished a trial resulted in value: 3.5529546722374445. Current best value is 3.36974019486434 with parameters: {'alpha': 0.00061780201418309977, 'l1_ratio': 0.73589132376597077}.\n",
      "[I 2019-02-11 05:26:33,215] Finished a trial resulted in value: 3.474943829449496. Current best value is 3.36974019486434 with parameters: {'alpha': 0.00061780201418309977, 'l1_ratio': 0.73589132376597077}.\n",
      "[I 2019-02-11 05:26:33,243] Finished a trial resulted in value: 3.587044175553114. Current best value is 3.36974019486434 with parameters: {'alpha': 0.00061780201418309977, 'l1_ratio': 0.73589132376597077}.\n",
      "[I 2019-02-11 05:26:33,277] Finished a trial resulted in value: 3.5037551017089794. Current best value is 3.36974019486434 with parameters: {'alpha': 0.00061780201418309977, 'l1_ratio': 0.73589132376597077}.\n",
      "[I 2019-02-11 05:26:33,308] Finished a trial resulted in value: 3.429990462180526. Current best value is 3.36974019486434 with parameters: {'alpha': 0.00061780201418309977, 'l1_ratio': 0.73589132376597077}.\n",
      "[I 2019-02-11 05:26:33,335] Finished a trial resulted in value: 3.38251558304462. Current best value is 3.36974019486434 with parameters: {'alpha': 0.00061780201418309977, 'l1_ratio': 0.73589132376597077}.\n",
      "[I 2019-02-11 05:26:33,365] Finished a trial resulted in value: 3.57188860092452. Current best value is 3.36974019486434 with parameters: {'alpha': 0.00061780201418309977, 'l1_ratio': 0.73589132376597077}.\n",
      "[I 2019-02-11 05:26:33,396] Finished a trial resulted in value: 3.5195391375074. Current best value is 3.36974019486434 with parameters: {'alpha': 0.00061780201418309977, 'l1_ratio': 0.73589132376597077}.\n",
      "[I 2019-02-11 05:26:33,435] Finished a trial resulted in value: 3.3994482215762227. Current best value is 3.36974019486434 with parameters: {'alpha': 0.00061780201418309977, 'l1_ratio': 0.73589132376597077}.\n",
      "[I 2019-02-11 05:26:33,469] Finished a trial resulted in value: 3.672617526181832. Current best value is 3.36974019486434 with parameters: {'alpha': 0.00061780201418309977, 'l1_ratio': 0.73589132376597077}.\n",
      "[I 2019-02-11 05:26:33,492] Finished a trial resulted in value: 3.634224356990464. Current best value is 3.36974019486434 with parameters: {'alpha': 0.00061780201418309977, 'l1_ratio': 0.73589132376597077}.\n",
      "[I 2019-02-11 05:26:33,515] Finished a trial resulted in value: 3.518559436701158. Current best value is 3.36974019486434 with parameters: {'alpha': 0.00061780201418309977, 'l1_ratio': 0.73589132376597077}.\n",
      "[I 2019-02-11 05:26:33,537] Finished a trial resulted in value: 3.5375608808718013. Current best value is 3.36974019486434 with parameters: {'alpha': 0.00061780201418309977, 'l1_ratio': 0.73589132376597077}.\n",
      "[I 2019-02-11 05:26:33,561] Finished a trial resulted in value: 3.5573669722389676. Current best value is 3.36974019486434 with parameters: {'alpha': 0.00061780201418309977, 'l1_ratio': 0.73589132376597077}.\n",
      "[I 2019-02-11 05:26:33,584] Finished a trial resulted in value: 3.7155784121111375. Current best value is 3.36974019486434 with parameters: {'alpha': 0.00061780201418309977, 'l1_ratio': 0.73589132376597077}.\n",
      "[I 2019-02-11 05:26:33,610] Finished a trial resulted in value: 3.5969537794310265. Current best value is 3.36974019486434 with parameters: {'alpha': 0.00061780201418309977, 'l1_ratio': 0.73589132376597077}.\n",
      "[I 2019-02-11 05:26:33,633] Finished a trial resulted in value: 3.6298621968634373. Current best value is 3.36974019486434 with parameters: {'alpha': 0.00061780201418309977, 'l1_ratio': 0.73589132376597077}.\n",
      "[I 2019-02-11 05:26:33,664] Finished a trial resulted in value: 3.625900186787877. Current best value is 3.36974019486434 with parameters: {'alpha': 0.00061780201418309977, 'l1_ratio': 0.73589132376597077}.\n",
      "[I 2019-02-11 05:26:33,688] Finished a trial resulted in value: 3.539650972814582. Current best value is 3.36974019486434 with parameters: {'alpha': 0.00061780201418309977, 'l1_ratio': 0.73589132376597077}.\n",
      "[I 2019-02-11 05:26:33,711] Finished a trial resulted in value: 3.5032135708983603. Current best value is 3.36974019486434 with parameters: {'alpha': 0.00061780201418309977, 'l1_ratio': 0.73589132376597077}.\n",
      "[I 2019-02-11 05:26:33,743] Finished a trial resulted in value: 3.460685221380176. Current best value is 3.36974019486434 with parameters: {'alpha': 0.00061780201418309977, 'l1_ratio': 0.73589132376597077}.\n",
      "[I 2019-02-11 05:26:33,770] Finished a trial resulted in value: 3.6525950827767137. Current best value is 3.36974019486434 with parameters: {'alpha': 0.00061780201418309977, 'l1_ratio': 0.73589132376597077}.\n",
      "[I 2019-02-11 05:26:33,801] Finished a trial resulted in value: 3.6019402992750744. Current best value is 3.36974019486434 with parameters: {'alpha': 0.00061780201418309977, 'l1_ratio': 0.73589132376597077}.\n",
      "[I 2019-02-11 05:26:33,829] Finished a trial resulted in value: 3.541382509970638. Current best value is 3.36974019486434 with parameters: {'alpha': 0.00061780201418309977, 'l1_ratio': 0.73589132376597077}.\n",
      "[I 2019-02-11 05:26:33,881] Finished a trial resulted in value: 3.6826613208828185. Current best value is 3.36974019486434 with parameters: {'alpha': 0.00061780201418309977, 'l1_ratio': 0.73589132376597077}.\n",
      "[I 2019-02-11 05:26:33,914] Finished a trial resulted in value: 3.6007041354388942. Current best value is 3.36974019486434 with parameters: {'alpha': 0.00061780201418309977, 'l1_ratio': 0.73589132376597077}.\n"
     ]
    },
    {
     "name": "stderr",
     "output_type": "stream",
     "text": [
      "[I 2019-02-11 05:26:33,957] Finished a trial resulted in value: 3.4580156355101845. Current best value is 3.36974019486434 with parameters: {'alpha': 0.00061780201418309977, 'l1_ratio': 0.73589132376597077}.\n",
      "[I 2019-02-11 05:26:33,996] Finished a trial resulted in value: 3.658943600343298. Current best value is 3.36974019486434 with parameters: {'alpha': 0.00061780201418309977, 'l1_ratio': 0.73589132376597077}.\n",
      "[I 2019-02-11 05:26:34,027] Finished a trial resulted in value: 3.6625192727964704. Current best value is 3.36974019486434 with parameters: {'alpha': 0.00061780201418309977, 'l1_ratio': 0.73589132376597077}.\n",
      "[I 2019-02-11 05:26:34,053] Finished a trial resulted in value: 3.6495694255273783. Current best value is 3.36974019486434 with parameters: {'alpha': 0.00061780201418309977, 'l1_ratio': 0.73589132376597077}.\n",
      "[I 2019-02-11 05:26:34,111] Finished a trial resulted in value: 3.5555145553367526. Current best value is 3.36974019486434 with parameters: {'alpha': 0.00061780201418309977, 'l1_ratio': 0.73589132376597077}.\n",
      "[I 2019-02-11 05:26:34,147] Finished a trial resulted in value: 3.4856353189232756. Current best value is 3.36974019486434 with parameters: {'alpha': 0.00061780201418309977, 'l1_ratio': 0.73589132376597077}.\n",
      "[I 2019-02-11 05:26:34,180] Finished a trial resulted in value: 3.5420297953394835. Current best value is 3.36974019486434 with parameters: {'alpha': 0.00061780201418309977, 'l1_ratio': 0.73589132376597077}.\n",
      "[I 2019-02-11 05:26:34,213] Finished a trial resulted in value: 3.5195698164174987. Current best value is 3.36974019486434 with parameters: {'alpha': 0.00061780201418309977, 'l1_ratio': 0.73589132376597077}.\n",
      "[I 2019-02-11 05:26:34,240] Finished a trial resulted in value: 3.6718681394373713. Current best value is 3.36974019486434 with parameters: {'alpha': 0.00061780201418309977, 'l1_ratio': 0.73589132376597077}.\n",
      "[I 2019-02-11 05:26:34,281] Finished a trial resulted in value: 3.664129277492535. Current best value is 3.36974019486434 with parameters: {'alpha': 0.00061780201418309977, 'l1_ratio': 0.73589132376597077}.\n",
      "[I 2019-02-11 05:26:34,324] Finished a trial resulted in value: 3.48309168355096. Current best value is 3.36974019486434 with parameters: {'alpha': 0.00061780201418309977, 'l1_ratio': 0.73589132376597077}.\n",
      "[I 2019-02-11 05:26:34,359] Finished a trial resulted in value: 3.4091713684805174. Current best value is 3.36974019486434 with parameters: {'alpha': 0.00061780201418309977, 'l1_ratio': 0.73589132376597077}.\n",
      "[I 2019-02-11 05:26:34,390] Finished a trial resulted in value: 3.6175217052056814. Current best value is 3.36974019486434 with parameters: {'alpha': 0.00061780201418309977, 'l1_ratio': 0.73589132376597077}.\n",
      "[I 2019-02-11 05:26:34,425] Finished a trial resulted in value: 3.7040218132893123. Current best value is 3.36974019486434 with parameters: {'alpha': 0.00061780201418309977, 'l1_ratio': 0.73589132376597077}.\n",
      "[I 2019-02-11 05:26:34,457] Finished a trial resulted in value: 3.512919676448971. Current best value is 3.36974019486434 with parameters: {'alpha': 0.00061780201418309977, 'l1_ratio': 0.73589132376597077}.\n",
      "[I 2019-02-11 05:26:34,484] Finished a trial resulted in value: 3.7050176984119263. Current best value is 3.36974019486434 with parameters: {'alpha': 0.00061780201418309977, 'l1_ratio': 0.73589132376597077}.\n",
      "[I 2019-02-11 05:26:34,513] Finished a trial resulted in value: 3.542160306567476. Current best value is 3.36974019486434 with parameters: {'alpha': 0.00061780201418309977, 'l1_ratio': 0.73589132376597077}.\n",
      "[I 2019-02-11 05:26:34,565] Finished a trial resulted in value: 3.4503451228769184. Current best value is 3.36974019486434 with parameters: {'alpha': 0.00061780201418309977, 'l1_ratio': 0.73589132376597077}.\n",
      "[I 2019-02-11 05:26:34,620] Finished a trial resulted in value: 3.5235205805950387. Current best value is 3.36974019486434 with parameters: {'alpha': 0.00061780201418309977, 'l1_ratio': 0.73589132376597077}.\n",
      "[I 2019-02-11 05:26:34,658] Finished a trial resulted in value: 3.561471783559198. Current best value is 3.36974019486434 with parameters: {'alpha': 0.00061780201418309977, 'l1_ratio': 0.73589132376597077}.\n",
      "[I 2019-02-11 05:26:34,689] Finished a trial resulted in value: 3.6573522510320866. Current best value is 3.36974019486434 with parameters: {'alpha': 0.00061780201418309977, 'l1_ratio': 0.73589132376597077}.\n",
      "[I 2019-02-11 05:26:34,722] Finished a trial resulted in value: 3.569776310880096. Current best value is 3.36974019486434 with parameters: {'alpha': 0.00061780201418309977, 'l1_ratio': 0.73589132376597077}.\n",
      "[I 2019-02-11 05:26:34,753] Finished a trial resulted in value: 3.478884797895384. Current best value is 3.36974019486434 with parameters: {'alpha': 0.00061780201418309977, 'l1_ratio': 0.73589132376597077}.\n",
      "[I 2019-02-11 05:26:34,783] Finished a trial resulted in value: 3.5596159368613907. Current best value is 3.36974019486434 with parameters: {'alpha': 0.00061780201418309977, 'l1_ratio': 0.73589132376597077}.\n",
      "[I 2019-02-11 05:26:34,813] Finished a trial resulted in value: 3.549777635095053. Current best value is 3.36974019486434 with parameters: {'alpha': 0.00061780201418309977, 'l1_ratio': 0.73589132376597077}.\n",
      "[I 2019-02-11 05:26:34,845] Finished a trial resulted in value: 3.505638347434362. Current best value is 3.36974019486434 with parameters: {'alpha': 0.00061780201418309977, 'l1_ratio': 0.73589132376597077}.\n",
      "[I 2019-02-11 05:26:34,861] Finished a trial resulted in value: 3.3690710433605355. Current best value is 3.3690710433605355 with parameters: {'alpha': 0.0022753612211366368, 'l1_ratio': 0.82364475864858699}.\n",
      "[I 2019-02-11 05:26:34,891] Finished a trial resulted in value: 3.4803410973180764. Current best value is 3.3690710433605355 with parameters: {'alpha': 0.0022753612211366368, 'l1_ratio': 0.82364475864858699}.\n",
      "[I 2019-02-11 05:26:34,920] Finished a trial resulted in value: 3.3707679865801596. Current best value is 3.3690710433605355 with parameters: {'alpha': 0.0022753612211366368, 'l1_ratio': 0.82364475864858699}.\n",
      "[I 2019-02-11 05:26:34,949] Finished a trial resulted in value: 3.374642645367175. Current best value is 3.3690710433605355 with parameters: {'alpha': 0.0022753612211366368, 'l1_ratio': 0.82364475864858699}.\n",
      "[I 2019-02-11 05:26:34,980] Finished a trial resulted in value: 3.422823353817251. Current best value is 3.3690710433605355 with parameters: {'alpha': 0.0022753612211366368, 'l1_ratio': 0.82364475864858699}.\n",
      "[I 2019-02-11 05:26:35,008] Finished a trial resulted in value: 3.468852936303409. Current best value is 3.3690710433605355 with parameters: {'alpha': 0.0022753612211366368, 'l1_ratio': 0.82364475864858699}.\n",
      "[I 2019-02-11 05:26:35,038] Finished a trial resulted in value: 3.4839054032780545. Current best value is 3.3690710433605355 with parameters: {'alpha': 0.0022753612211366368, 'l1_ratio': 0.82364475864858699}.\n",
      "[I 2019-02-11 05:26:35,067] Finished a trial resulted in value: 3.443453302860381. Current best value is 3.3690710433605355 with parameters: {'alpha': 0.0022753612211366368, 'l1_ratio': 0.82364475864858699}.\n",
      "[I 2019-02-11 05:26:35,097] Finished a trial resulted in value: 3.4663082946258674. Current best value is 3.3690710433605355 with parameters: {'alpha': 0.0022753612211366368, 'l1_ratio': 0.82364475864858699}.\n",
      "[I 2019-02-11 05:26:35,127] Finished a trial resulted in value: 3.490225755034702. Current best value is 3.3690710433605355 with parameters: {'alpha': 0.0022753612211366368, 'l1_ratio': 0.82364475864858699}.\n",
      "[I 2019-02-11 05:26:35,153] Finished a trial resulted in value: 3.50982960786165. Current best value is 3.3690710433605355 with parameters: {'alpha': 0.0022753612211366368, 'l1_ratio': 0.82364475864858699}.\n",
      "[I 2019-02-11 05:26:35,185] Finished a trial resulted in value: 3.41528117133498. Current best value is 3.3690710433605355 with parameters: {'alpha': 0.0022753612211366368, 'l1_ratio': 0.82364475864858699}.\n",
      "[I 2019-02-11 05:26:35,220] Finished a trial resulted in value: 3.507392933342298. Current best value is 3.3690710433605355 with parameters: {'alpha': 0.0022753612211366368, 'l1_ratio': 0.82364475864858699}.\n"
     ]
    },
    {
     "name": "stderr",
     "output_type": "stream",
     "text": [
      "[I 2019-02-11 05:26:35,253] Finished a trial resulted in value: 3.519891948790538. Current best value is 3.3690710433605355 with parameters: {'alpha': 0.0022753612211366368, 'l1_ratio': 0.82364475864858699}.\n",
      "[I 2019-02-11 05:26:35,289] Finished a trial resulted in value: 3.4590232362077495. Current best value is 3.3690710433605355 with parameters: {'alpha': 0.0022753612211366368, 'l1_ratio': 0.82364475864858699}.\n",
      "[I 2019-02-11 05:26:35,326] Finished a trial resulted in value: 3.4688918598347667. Current best value is 3.3690710433605355 with parameters: {'alpha': 0.0022753612211366368, 'l1_ratio': 0.82364475864858699}.\n",
      "[I 2019-02-11 05:26:35,366] Finished a trial resulted in value: 3.371847250113924. Current best value is 3.3690710433605355 with parameters: {'alpha': 0.0022753612211366368, 'l1_ratio': 0.82364475864858699}.\n",
      "[I 2019-02-11 05:26:35,399] Finished a trial resulted in value: 3.519078562757411. Current best value is 3.3690710433605355 with parameters: {'alpha': 0.0022753612211366368, 'l1_ratio': 0.82364475864858699}.\n",
      "[I 2019-02-11 05:26:35,435] Finished a trial resulted in value: 3.4814064739211874. Current best value is 3.3690710433605355 with parameters: {'alpha': 0.0022753612211366368, 'l1_ratio': 0.82364475864858699}.\n",
      "[I 2019-02-11 05:26:35,471] Finished a trial resulted in value: 3.5584533308483977. Current best value is 3.3690710433605355 with parameters: {'alpha': 0.0022753612211366368, 'l1_ratio': 0.82364475864858699}.\n",
      "[I 2019-02-11 05:26:35,506] Finished a trial resulted in value: 3.4693515374490342. Current best value is 3.3690710433605355 with parameters: {'alpha': 0.0022753612211366368, 'l1_ratio': 0.82364475864858699}.\n",
      "[I 2019-02-11 05:26:35,542] Finished a trial resulted in value: 3.5798146143849645. Current best value is 3.3690710433605355 with parameters: {'alpha': 0.0022753612211366368, 'l1_ratio': 0.82364475864858699}.\n",
      "[I 2019-02-11 05:26:35,582] Finished a trial resulted in value: 3.5186145768734054. Current best value is 3.3690710433605355 with parameters: {'alpha': 0.0022753612211366368, 'l1_ratio': 0.82364475864858699}.\n",
      "[I 2019-02-11 05:26:35,620] Finished a trial resulted in value: 3.4291150606706. Current best value is 3.3690710433605355 with parameters: {'alpha': 0.0022753612211366368, 'l1_ratio': 0.82364475864858699}.\n",
      "[I 2019-02-11 05:26:35,662] Finished a trial resulted in value: 3.6197399007488396. Current best value is 3.3690710433605355 with parameters: {'alpha': 0.0022753612211366368, 'l1_ratio': 0.82364475864858699}.\n",
      "[I 2019-02-11 05:26:35,699] Finished a trial resulted in value: 3.559477575044596. Current best value is 3.3690710433605355 with parameters: {'alpha': 0.0022753612211366368, 'l1_ratio': 0.82364475864858699}.\n",
      "[I 2019-02-11 05:26:35,741] Finished a trial resulted in value: 3.555790435952223. Current best value is 3.3690710433605355 with parameters: {'alpha': 0.0022753612211366368, 'l1_ratio': 0.82364475864858699}.\n",
      "[I 2019-02-11 05:26:35,779] Finished a trial resulted in value: 3.522751623886713. Current best value is 3.3690710433605355 with parameters: {'alpha': 0.0022753612211366368, 'l1_ratio': 0.82364475864858699}.\n",
      "[I 2019-02-11 05:26:35,817] Finished a trial resulted in value: 3.454249378562133. Current best value is 3.3690710433605355 with parameters: {'alpha': 0.0022753612211366368, 'l1_ratio': 0.82364475864858699}.\n",
      "[I 2019-02-11 05:26:35,855] Finished a trial resulted in value: 3.542891406339199. Current best value is 3.3690710433605355 with parameters: {'alpha': 0.0022753612211366368, 'l1_ratio': 0.82364475864858699}.\n",
      "[I 2019-02-11 05:26:35,891] Finished a trial resulted in value: 3.4745651502698194. Current best value is 3.3690710433605355 with parameters: {'alpha': 0.0022753612211366368, 'l1_ratio': 0.82364475864858699}.\n",
      "[I 2019-02-11 05:26:35,931] Finished a trial resulted in value: 3.723836297436657. Current best value is 3.3690710433605355 with parameters: {'alpha': 0.0022753612211366368, 'l1_ratio': 0.82364475864858699}.\n",
      "[I 2019-02-11 05:26:35,966] Finished a trial resulted in value: 3.623039535537474. Current best value is 3.3690710433605355 with parameters: {'alpha': 0.0022753612211366368, 'l1_ratio': 0.82364475864858699}.\n",
      "[I 2019-02-11 05:26:36,000] Finished a trial resulted in value: 3.488041619370027. Current best value is 3.3690710433605355 with parameters: {'alpha': 0.0022753612211366368, 'l1_ratio': 0.82364475864858699}.\n",
      "[I 2019-02-11 05:26:36,034] Finished a trial resulted in value: 3.5912312939315947. Current best value is 3.3690710433605355 with parameters: {'alpha': 0.0022753612211366368, 'l1_ratio': 0.82364475864858699}.\n"
     ]
    }
   ],
   "source": [
    "study = optuna.create_study()\n",
    "study.optimize(objective, n_trials=100)"
   ]
  },
  {
   "cell_type": "code",
   "execution_count": 7,
   "metadata": {},
   "outputs": [
    {
     "name": "stdout",
     "output_type": "stream",
     "text": [
      "opt_x :  {'alpha': 0.0022753612211366368, 'l1_ratio': 0.82364475864858699}\n",
      "opt_f :  3.3690710433605355\n"
     ]
    }
   ],
   "source": [
    "print(\"opt_x : \", study.best_params)\n",
    "print(\"opt_f : \", study.best_value)"
   ]
  },
  {
   "cell_type": "code",
   "execution_count": 8,
   "metadata": {},
   "outputs": [
    {
     "data": {
      "text/plain": [
       "ElasticNet(alpha=0.0022753612211366368, copy_X=True, fit_intercept=True,\n",
       "      l1_ratio=0.82364475864858699, max_iter=1000, normalize=False,\n",
       "      positive=False, precompute=False, random_state=None,\n",
       "      selection='cyclic', tol=0.0001, warm_start=False)"
      ]
     },
     "execution_count": 8,
     "metadata": {},
     "output_type": "execute_result"
    }
   ],
   "source": [
    "clf_er= linear_model.ElasticNet(alpha=study.best_params['alpha'],l1_ratio=study.best_params['l1_ratio'])\n",
    "clf_er.fit(X_train, Y_train)"
   ]
  },
  {
   "cell_type": "code",
   "execution_count": 9,
   "metadata": {},
   "outputs": [
    {
     "data": {
      "text/html": [
       "<div>\n",
       "<style scoped>\n",
       "    .dataframe tbody tr th:only-of-type {\n",
       "        vertical-align: middle;\n",
       "    }\n",
       "\n",
       "    .dataframe tbody tr th {\n",
       "        vertical-align: top;\n",
       "    }\n",
       "\n",
       "    .dataframe thead th {\n",
       "        text-align: right;\n",
       "    }\n",
       "</style>\n",
       "<table border=\"1\" class=\"dataframe\">\n",
       "  <thead>\n",
       "    <tr style=\"text-align: right;\">\n",
       "      <th></th>\n",
       "      <th>column</th>\n",
       "      <th>clf_er.coef_</th>\n",
       "      <th>intersept</th>\n",
       "    </tr>\n",
       "  </thead>\n",
       "  <tbody>\n",
       "    <tr>\n",
       "      <th>0</th>\n",
       "      <td>crim</td>\n",
       "      <td>-0.123321</td>\n",
       "      <td>31.485902</td>\n",
       "    </tr>\n",
       "    <tr>\n",
       "      <th>1</th>\n",
       "      <td>zn</td>\n",
       "      <td>0.050125</td>\n",
       "      <td>31.485902</td>\n",
       "    </tr>\n",
       "    <tr>\n",
       "      <th>2</th>\n",
       "      <td>indus</td>\n",
       "      <td>-0.029952</td>\n",
       "      <td>31.485902</td>\n",
       "    </tr>\n",
       "    <tr>\n",
       "      <th>3</th>\n",
       "      <td>chas</td>\n",
       "      <td>2.967030</td>\n",
       "      <td>31.485902</td>\n",
       "    </tr>\n",
       "    <tr>\n",
       "      <th>4</th>\n",
       "      <td>nox</td>\n",
       "      <td>-14.700404</td>\n",
       "      <td>31.485902</td>\n",
       "    </tr>\n",
       "    <tr>\n",
       "      <th>5</th>\n",
       "      <td>rm</td>\n",
       "      <td>4.118001</td>\n",
       "      <td>31.485902</td>\n",
       "    </tr>\n",
       "    <tr>\n",
       "      <th>6</th>\n",
       "      <td>age</td>\n",
       "      <td>-0.003687</td>\n",
       "      <td>31.485902</td>\n",
       "    </tr>\n",
       "    <tr>\n",
       "      <th>7</th>\n",
       "      <td>dis</td>\n",
       "      <td>-1.612988</td>\n",
       "      <td>31.485902</td>\n",
       "    </tr>\n",
       "    <tr>\n",
       "      <th>8</th>\n",
       "      <td>rad</td>\n",
       "      <td>0.307993</td>\n",
       "      <td>31.485902</td>\n",
       "    </tr>\n",
       "    <tr>\n",
       "      <th>9</th>\n",
       "      <td>tax</td>\n",
       "      <td>-0.011773</td>\n",
       "      <td>31.485902</td>\n",
       "    </tr>\n",
       "    <tr>\n",
       "      <th>10</th>\n",
       "      <td>ptratio</td>\n",
       "      <td>-0.838655</td>\n",
       "      <td>31.485902</td>\n",
       "    </tr>\n",
       "    <tr>\n",
       "      <th>11</th>\n",
       "      <td>b</td>\n",
       "      <td>0.010424</td>\n",
       "      <td>31.485902</td>\n",
       "    </tr>\n",
       "    <tr>\n",
       "      <th>12</th>\n",
       "      <td>lstat</td>\n",
       "      <td>-0.519059</td>\n",
       "      <td>31.485902</td>\n",
       "    </tr>\n",
       "  </tbody>\n",
       "</table>\n",
       "</div>"
      ],
      "text/plain": [
       "     column  clf_er.coef_  intersept\n",
       "0      crim     -0.123321  31.485902\n",
       "1        zn      0.050125  31.485902\n",
       "2     indus     -0.029952  31.485902\n",
       "3      chas      2.967030  31.485902\n",
       "4       nox    -14.700404  31.485902\n",
       "5        rm      4.118001  31.485902\n",
       "6       age     -0.003687  31.485902\n",
       "7       dis     -1.612988  31.485902\n",
       "8       rad      0.307993  31.485902\n",
       "9       tax     -0.011773  31.485902\n",
       "10  ptratio     -0.838655  31.485902\n",
       "11        b      0.010424  31.485902\n",
       "12    lstat     -0.519059  31.485902"
      ]
     },
     "execution_count": 9,
     "metadata": {},
     "output_type": "execute_result"
    }
   ],
   "source": [
    "data = pd.DataFrame({\n",
    "   'column' : X.columns,\n",
    "   'clf_er.coef_': clf_er.coef_,\n",
    "   'intersept': clf_er.intercept_\n",
    "})\n",
    "data"
   ]
  },
  {
   "cell_type": "code",
   "execution_count": 10,
   "metadata": {},
   "outputs": [
    {
     "data": {
      "text/plain": [
       "3.3690710433605355"
      ]
     },
     "execution_count": 10,
     "metadata": {},
     "output_type": "execute_result"
    }
   ],
   "source": [
    "# 平均絶対誤差(MAE)\n",
    "# 実際の値と予測値の絶対値を平均した値\n",
    "from sklearn.metrics import mean_absolute_error\n",
    "y_true = Y_test\n",
    "y_pred = clf_er.predict(X_test)\n",
    "\n",
    "mean_absolute_error(y_true, y_pred)"
   ]
  },
  {
   "cell_type": "code",
   "execution_count": 11,
   "metadata": {},
   "outputs": [
    {
     "data": {
      "text/plain": [
       "4.5822073766271219"
      ]
     },
     "execution_count": 11,
     "metadata": {},
     "output_type": "execute_result"
    }
   ],
   "source": [
    "# 二乗平均平方根誤差 (RMSE)\n",
    "# MSEで2乗したことの影響を平方根で補正した値\n",
    "from sklearn.metrics import mean_squared_error\n",
    "np.sqrt(mean_squared_error(y_true, y_pred))"
   ]
  }
 ],
 "metadata": {
  "kernelspec": {
   "display_name": "Python 3",
   "language": "python",
   "name": "python3"
  },
  "language_info": {
   "codemirror_mode": {
    "name": "ipython",
    "version": 3
   },
   "file_extension": ".py",
   "mimetype": "text/x-python",
   "name": "python",
   "nbconvert_exporter": "python",
   "pygments_lexer": "ipython3",
   "version": "3.6.3"
  }
 },
 "nbformat": 4,
 "nbformat_minor": 2
}
